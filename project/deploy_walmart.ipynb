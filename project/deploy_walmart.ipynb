{
 "cells": [
  {
   "cell_type": "code",
   "execution_count": 1,
   "id": "7824b006",
   "metadata": {},
   "outputs": [],
   "source": [
    "import gradio as gr\n",
    "import pickle\n",
    "import warnings\n",
    "warnings.filterwarnings('ignore')"
   ]
  },
  {
   "cell_type": "code",
   "execution_count": 2,
   "id": "0ab2a156",
   "metadata": {},
   "outputs": [],
   "source": [
    "#Load a Trained Model in this file\n",
    "\n",
    "with open('final_model.pkl','rb') as file:\n",
    "    loaded_model=pickle.load(file)"
   ]
  },
  {
   "cell_type": "code",
   "execution_count": 3,
   "id": "4bc19f26",
   "metadata": {},
   "outputs": [],
   "source": [
    "# Prediction Function\n",
    "\n",
    "def prediction(Store,Holiday_Flag,Temperature,Fuel_Price,CPI,Unemployment,weekday,month,year):\n",
    "    input_data=[[Store,Holiday_Flag,Temperature,Fuel_Price,CPI,Unemployment,weekday,month,year]]\n",
    "    \n",
    "    pred=loaded_model.predict(input_data)[0]\n",
    "    \n",
    "    return pred"
   ]
  },
  {
   "cell_type": "code",
   "execution_count": 5,
   "id": "63427ad1",
   "metadata": {},
   "outputs": [
    {
     "data": {
      "text/plain": [
       "790444.06"
      ]
     },
     "execution_count": 5,
     "metadata": {},
     "output_type": "execute_result"
    }
   ],
   "source": [
    "prediction(49,1,78,9.12,178.986,10.984,4,9,2043)"
   ]
  },
  {
   "cell_type": "markdown",
   "id": "b6d3e91e",
   "metadata": {},
   "source": [
    "# INTERFACE"
   ]
  },
  {
   "cell_type": "code",
   "execution_count": 29,
   "id": "18258c77",
   "metadata": {},
   "outputs": [],
   "source": [
    "iface=gr.Interface(fn=prediction,\n",
    "                  inputs=[gr.Number(label='Enter the Store Number'),\n",
    "                         gr.Dropdown([('Jan',1),('Feb',2),('Mar',3),('Apr',4),('May',5),('June',6),('July',7),('Aug',8),('Sep',9),('Oct',10),('Nov',11),('Dec',12)],label='Enter Month'),\n",
    "                         gr.Dropdown([4],label='Weekday'),\n",
    "                         gr.Dropdown([('Yes',1),('No',0)],label='Holiday Week'),\n",
    "                         gr.Number(label='Temperature'),\n",
    "                         gr.Number(label='Fuel price'),\n",
    "                         gr.Number(label='CPI'),\n",
    "                         gr.Number(label='Unemployment Rate')],\n",
    "                  outputs= gr.Textbox(label='Weekly Sales'),\n",
    "                  title='Walmart',\n",
    "                  description='Enter Details Of Store To Predict Sales ',\n",
    "                  allow_flagging='never')"
   ]
  },
  {
   "cell_type": "code",
   "execution_count": 30,
   "id": "4ae88734",
   "metadata": {},
   "outputs": [
    {
     "name": "stdout",
     "output_type": "stream",
     "text": [
      "Running on local URL:  http://127.0.0.1:7862\n",
      "\n",
      "To create a public link, set `share=True` in `launch()`.\n"
     ]
    },
    {
     "data": {
      "text/html": [
       "<div><iframe src=\"http://127.0.0.1:7862/\" width=\"100%\" height=\"500\" allow=\"autoplay; camera; microphone; clipboard-read; clipboard-write;\" frameborder=\"0\" allowfullscreen></iframe></div>"
      ],
      "text/plain": [
       "<IPython.core.display.HTML object>"
      ]
     },
     "metadata": {},
     "output_type": "display_data"
    },
    {
     "data": {
      "text/plain": []
     },
     "execution_count": 30,
     "metadata": {},
     "output_type": "execute_result"
    }
   ],
   "source": [
    "iface.launch()"
   ]
  },
  {
   "cell_type": "code",
   "execution_count": null,
   "id": "9154d676",
   "metadata": {},
   "outputs": [],
   "source": []
  }
 ],
 "metadata": {
  "kernelspec": {
   "display_name": "Python 3 (ipykernel)",
   "language": "python",
   "name": "python3"
  },
  "language_info": {
   "codemirror_mode": {
    "name": "ipython",
    "version": 3
   },
   "file_extension": ".py",
   "mimetype": "text/x-python",
   "name": "python",
   "nbconvert_exporter": "python",
   "pygments_lexer": "ipython3",
   "version": "3.11.5"
  }
 },
 "nbformat": 4,
 "nbformat_minor": 5
}
